{
 "cells": [
  {
   "cell_type": "code",
   "execution_count": 2,
   "metadata": {},
   "outputs": [
    {
     "name": "stdout",
     "output_type": "stream",
     "text": [
      "802.451047\n",
      "800.510132\n",
      "9347.504088\n",
      "1050.0\n",
      "34.3916\n",
      "34.885\n",
      "4.939015319191986\n",
      "802.451047\n",
      "800.510132\n",
      "9347.504088\n"
     ]
    }
   ],
   "source": [
    "from core.fundamental_calcs.interest_rate_calcs import *\n",
    "print(present_value(rate=4.5,duration=5,future_amount=1000))\n",
    "print(present_value(rate=4.5,duration=5,future_amount=1000,periodicity=2))\n",
    "print(present_value(rate=6,duration=8,future_amount=15000,periodicity=2))\n",
    "print(future_value_basic_interest(1000,5))\n",
    "\n",
    "\n",
    "\n",
    "\n",
    "########### TESTS ################\n",
    "\n",
    "\n",
    "scenario_1=future_value_periodic_compound_interest(principal_amount=15000,rate_of_interest=6,duration=5,frequency=2)\n",
    "scenario_2=future_value_periodic_compound_interest(principal_amount=15000,rate_of_interest=6,duration=5,frequency=12)\n",
    "\n",
    "print(net_return(principal_amount=15000,future_value=scenario_1))\n",
    "print(net_return(principal_amount=15000,future_value=scenario_2))\n",
    "\n",
    "print(equivalent_rate(current_rate=5,current_periodicity=1,prospect_periodicity=2))\n",
    "\n",
    "print(present_value(rate=4.5,duration=5,future_amount=1000))\n",
    "print(present_value(rate=4.5,duration=5,future_amount=1000,periodicity=2))\n",
    "print(present_value(rate=6,duration=8,future_amount=15000,periodicity=2))\n"
   ]
  },
  {
   "cell_type": "code",
   "execution_count": null,
   "metadata": {},
   "outputs": [],
   "source": []
  }
 ],
 "metadata": {
  "kernelspec": {
   "display_name": "base",
   "language": "python",
   "name": "python3"
  },
  "language_info": {
   "codemirror_mode": {
    "name": "ipython",
    "version": 3
   },
   "file_extension": ".py",
   "mimetype": "text/x-python",
   "name": "python",
   "nbconvert_exporter": "python",
   "pygments_lexer": "ipython3",
   "version": "3.11.5"
  }
 },
 "nbformat": 4,
 "nbformat_minor": 2
}
