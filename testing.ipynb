{
 "cells": [
  {
   "cell_type": "code",
   "execution_count": 2,
   "metadata": {},
   "outputs": [
    {
     "name": "stdout",
     "output_type": "stream",
     "text": [
      "802.451047\n",
      "800.510132\n",
      "9347.504088\n",
      "1050.0\n",
      "34.3916\n",
      "34.885\n",
      "4.939015319191986\n",
      "802.451047\n",
      "800.510132\n",
      "9347.504088\n"
     ]
    }
   ],
   "source": [
    "from core.fundamental_calcs.interest_rate_calcs import *\n",
    "print(present_value(rate=4.5,duration=5,future_amount=1000))\n",
    "print(present_value(rate=4.5,duration=5,future_amount=1000,periodicity=2))\n",
    "print(present_value(rate=6,duration=8,future_amount=15000,periodicity=2))\n",
    "print(future_value_basic_interest(1000,5))\n",
    "\n",
    "\n",
    "\n",
    "\n",
    "########### TESTS ################\n",
    "\n",
    "\n",
    "scenario_1=future_value_periodic_compound_interest(principal_amount=15000,rate_of_interest=6,duration=5,frequency=2)\n",
    "scenario_2=future_value_periodic_compound_interest(principal_amount=15000,rate_of_interest=6,duration=5,frequency=12)\n",
    "\n",
    "print(net_return(principal_amount=15000,future_value=scenario_1))\n",
    "print(net_return(principal_amount=15000,future_value=scenario_2))\n",
    "\n",
    "print(equivalent_rate(current_rate=5,current_periodicity=1,prospect_periodicity=2))\n",
    "\n",
    "print(present_value(rate=4.5,duration=5,future_amount=1000))\n",
    "print(present_value(rate=4.5,duration=5,future_amount=1000,periodicity=2))\n",
    "print(present_value(rate=6,duration=8,future_amount=15000,periodicity=2))\n"
   ]
  },
  {
   "cell_type": "code",
   "execution_count": 1,
   "metadata": {},
   "outputs": [
    {
     "data": {
      "text/plain": [
       "([2884.6153846153843, 4622.781065088756], 7507.39645)"
      ]
     },
     "execution_count": 1,
     "metadata": {},
     "output_type": "execute_result"
    }
   ],
   "source": [
    "from core.fundamental_calcs.discounted_cashflows import cashflow_present_value\n",
    "\n",
    "cashflow_present_value([3000,5000],[4,4])"
   ]
  },
  {
   "cell_type": "code",
   "execution_count": 1,
   "metadata": {},
   "outputs": [
    {
     "name": "stdout",
     "output_type": "stream",
     "text": [
      "Bond Value: $10000\n",
      "Cycle 1 -> Coupon payment (FV) of $350.00000000000006 with PV : $334.92822966507185\n",
      "Cycle 2 -> Coupon payment (FV) of $350.00000000000006 with PV : $320.50548293308316\n",
      "Cycle 3 -> Coupon payment (FV) of $350.00000000000006 with PV : $306.7038114192183\n",
      "Maturity Cycle 4 -> total PAR + Coupon payment (FV) of $10350.0 with PV : $7947.720891179024\n",
      "Bond of Future Value: $10000 has a present value priced at : $8909.858415196397\n"
     ]
    },
    {
     "data": {
      "text/plain": [
       "8909.858415196397"
      ]
     },
     "execution_count": 1,
     "metadata": {},
     "output_type": "execute_result"
    }
   ],
   "source": [
    "from core.fundamental_calcs.discounted_cashflows import bond_cashflow_present_value\n",
    "\n",
    "bond_cashflow_present_value(10000,2,7,9,2)\n"
   ]
  },
  {
   "cell_type": "code",
   "execution_count": 2,
   "metadata": {},
   "outputs": [
    {
     "name": "stdout",
     "output_type": "stream",
     "text": [
      "Bond Value: $10000\n",
      "Cycle 1 -> Coupon payment (FV) of $175.00000000000003 with PV : $171.14914425427875\n",
      "Cycle 2 -> Coupon payment (FV) of $175.00000000000003 with PV : $167.38302616555382\n",
      "Cycle 3 -> Coupon payment (FV) of $175.00000000000003 with PV : $163.6997810910062\n",
      "Cycle 4 -> Coupon payment (FV) of $175.00000000000003 with PV : $160.09758541907695\n",
      "Cycle 5 -> Coupon payment (FV) of $175.00000000000003 with PV : $156.57465566657893\n",
      "Cycle 6 -> Coupon payment (FV) of $175.00000000000003 with PV : $153.12924759567622\n",
      "Cycle 7 -> Coupon payment (FV) of $175.00000000000003 with PV : $149.7596553502946\n",
      "Maturity Cycle 8 -> total PAR + Coupon payment (FV) of $10175.0 with PV : $5457.095459860965\n",
      "Bond of Future Value: $10000 has a present value priced at : $6578.8885554034305\n"
     ]
    },
    {
     "data": {
      "text/plain": [
       "6578.8885554034305"
      ]
     },
     "execution_count": 2,
     "metadata": {},
     "output_type": "execute_result"
    }
   ],
   "source": [
    "from core.fundamental_calcs.discounted_cashflows import bond_cashflow_present_value\n",
    "\n",
    "bond_cashflow_present_value(10000,2,7,9,4)"
   ]
  },
  {
   "cell_type": "code",
   "execution_count": null,
   "metadata": {},
   "outputs": [],
   "source": [
    "from core.fundamental_calcs.discounted_cashflows import bond_cashflow_present_value\n",
    "\n",
    "bond_cashflow_present_value(10000,2,7,9,12)"
   ]
  }
 ],
 "metadata": {
  "kernelspec": {
   "display_name": "base",
   "language": "python",
   "name": "python3"
  },
  "language_info": {
   "codemirror_mode": {
    "name": "ipython",
    "version": 3
   },
   "file_extension": ".py",
   "mimetype": "text/x-python",
   "name": "python",
   "nbconvert_exporter": "python",
   "pygments_lexer": "ipython3",
   "version": "3.12.0"
  }
 },
 "nbformat": 4,
 "nbformat_minor": 2
}
